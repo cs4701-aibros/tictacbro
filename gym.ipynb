{
 "cells": [
  {
   "cell_type": "code",
   "execution_count": 1,
   "metadata": {},
   "outputs": [],
   "source": [
    "import random\n",
    "import numpy as np\n",
    "from pettingzoo.utils.env import AECEnv\n",
    "from copy import deepcopy\n",
    "import numpy as np\n",
    "import ultimate_tictactoe_v1"
   ]
  },
  {
   "cell_type": "code",
   "execution_count": 2,
   "metadata": {},
   "outputs": [],
   "source": [
    "# Game env wrapper for MCTS search\n",
    "class State:\n",
    "\n",
    "    def __init__(self, env : AECEnv):\n",
    "        self.env = env\n",
    "\n",
    "    def gameEnded(self):\n",
    "        _, _, done, _ = self.env.last()\n",
    "        return done\n",
    "\n",
    "    def gameReward(self):\n",
    "        _, reward, _, _ = self.env.last()\n",
    "        return reward\n",
    "\n",
    "    def getActionMask(self):\n",
    "        observation, _, _, _ = self.env.last()\n",
    "        return observation[\"action_mask\"]\n",
    "\n",
    "    def getValidActions(self):\n",
    "        return np.flatnonzero(self.getActionMask())\n",
    "\n",
    "    def nextState(self, action):\n",
    "        new_env = deepcopy(self.env)\n",
    "        new_env.step(action)\n",
    "        player_changed = self.env.agent_selection != new_env.agent_selection\n",
    "        return State(new_env), player_changed\n",
    "\n",
    "    def getObservation(self):\n",
    "        return self.env.observe(self.currentAgent())[\"observation\"]\n",
    "\n",
    "    def currentAgent(self):\n",
    "        return self.env.agent_selection\n",
    "\n",
    "    def show(self, wait=False):\n",
    "        self.env.render()\n",
    "        if wait:\n",
    "            input(\"press any key to continue\")\n",
    "\n",
    "\n",
    "    def __eq__(self, x):\n",
    "        if not isinstance(x, State):\n",
    "            return False\n",
    "        # this should be enough\n",
    "        same_agent = self.env.agent_selection == x.env.agent_selection\n",
    "        observations_match = (self.getObservation() == x.getObservation()).all()\n",
    "        return same_agent and observations_match\n",
    "\n",
    "    def toStr(self):\n",
    "        o = self.getObservation()\n",
    "        # reduce dimensions from 3 to 2\n",
    "        o = np.sum(o, axis = 2) * (np.argmax(o, axis = 2) + 1)\n",
    "        return str(o)\n",
    "\n",
    "    def __hash__(self):\n",
    "        return hash(self.toStr())"
   ]
  },
  {
   "cell_type": "code",
   "execution_count": 3,
   "metadata": {},
   "outputs": [
    {
     "name": "stdout",
     "output_type": "stream",
     "text": [
      "     |     |     ||     |     |     ||     |     |     \n",
      "  -  |  -  |  -  ||  -  |  -  |  -  ||  -  |  -  |  -  \n",
      "_____|_____|_____||_____|_____|_____||_____|_____|_____\n",
      "     |     |     ||     |     |     ||     |     |     \n",
      "  -  |  -  |  -  ||  -  |  -  |  -  ||  -  |  -  |  -  \n",
      "_____|_____|_____||_____|_____|_____||_____|_____|_____\n",
      "     |     |     ||     |     |     ||     |     |     \n",
      "  -  |  -  |  -  ||  -  |  -  |  -  ||  -  |  -  |  -  \n",
      "=====|=====|=====||=====|=====|=====||=====|=====|=====\n",
      "     |     |     ||     |     |     ||     |     |     \n",
      "  -  |  -  |  -  ||  -  |  -  |  -  ||  -  |  -  |  -  \n",
      "_____|_____|_____||_____|_____|_____||_____|_____|_____\n",
      "     |     |     ||     |     |     ||     |     |     \n",
      "  -  |  -  |  -  ||  -  |  -  |  -  ||  -  |  -  |  -  \n",
      "_____|_____|_____||_____|_____|_____||_____|_____|_____\n",
      "     |     |     ||     |     |     ||     |     |     \n",
      "  -  |  -  |  -  ||  -  |  -  |  -  ||  -  |  -  |  -  \n",
      "=====|=====|=====||=====|=====|=====||=====|=====|=====\n",
      "     |     |     ||     |     |     ||     |     |     \n",
      "  -  |  -  |  -  ||  -  |  -  |  -  ||  -  |  -  |  -  \n",
      "_____|_____|_____||_____|_____|_____||_____|_____|_____\n",
      "     |     |     ||     |     |     ||     |     |     \n",
      "  -  |  -  |  -  ||  -  |  -  |  -  ||  -  |  -  |  -  \n",
      "_____|_____|_____||_____|_____|_____||_____|_____|_____\n",
      "     |     |     ||     |     |     ||     |     |     \n",
      "  -  |  -  |  -  ||  -  |  -  |  -  ||  -  |  -  |  -  \n",
      "     |     |     ||     |     |     ||     |     |     \n"
     ]
    }
   ],
   "source": [
    "env = ultimate_tictactoe_v1.env()\n",
    "env.reset()\n",
    "env.render()"
   ]
  },
  {
   "cell_type": "code",
   "execution_count": 4,
   "metadata": {},
   "outputs": [
    {
     "data": {
      "text/plain": [
       "(9, 9, 2)"
      ]
     },
     "execution_count": 4,
     "metadata": {},
     "output_type": "execute_result"
    }
   ],
   "source": [
    "state = State(env)\n",
    "state.getObservation().shape"
   ]
  },
  {
   "cell_type": "code",
   "execution_count": 5,
   "metadata": {},
   "outputs": [],
   "source": [
    "def competition(p1, p2, num_games):\n",
    "    p1_win = 0\n",
    "    p2_win = 0\n",
    "    draw = 0\n",
    "    games = 0\n",
    "    while (games < num_games):\n",
    "        env.reset()\n",
    "        for agent in env.agent_iter():\n",
    "            if \"player_1\" in env.rewards:\n",
    "                if env.rewards[\"player_1\"] > 0:\n",
    "                    p1_win += 1\n",
    "                elif env.rewards[\"player_1\"] < 0:\n",
    "                    p2_win += 1\n",
    "            observation, reward, done, info = env.last()\n",
    "            action = None\n",
    "            if agent == \"player_1\":\n",
    "                action = p1(observation, agent) if not done else None\n",
    "            else:\n",
    "                action = p2(observation, agent) if not done else None\n",
    "            env.step(action)\n",
    "            # env.render()\n",
    "            # print(\"\\n\") # this visualizes a single game\n",
    "        games += 1\n",
    "    draw = games - (p1_win + p2_win)\n",
    "    print(f\"p1_win: {p1_win / num_games}\")\n",
    "    print(f\"p2_win: {p2_win / num_games}\")\n",
    "    print(f\"draws: {draw / num_games}\")"
   ]
  },
  {
   "cell_type": "code",
   "execution_count": 6,
   "metadata": {},
   "outputs": [],
   "source": [
    "def p_random(observation, agent):\n",
    "    action = random.choice(np.flatnonzero(observation['action_mask']))\n",
    "    return action"
   ]
  },
  {
   "cell_type": "code",
   "execution_count": 7,
   "metadata": {},
   "outputs": [],
   "source": [
    "class TrainingExample:\n",
    "\n",
    "    def __init__(self, state, pi, reward):\n",
    "        self.state = state\n",
    "        self.pi = pi\n",
    "        self.reward = reward"
   ]
  },
  {
   "cell_type": "code",
   "execution_count": 17,
   "metadata": {},
   "outputs": [
    {
     "name": "stdout",
     "output_type": "stream",
     "text": [
      "Model: \"model_2\"\n",
      "__________________________________________________________________________________________________\n",
      " Layer (type)                   Output Shape         Param #     Connected to                     \n",
      "==================================================================================================\n",
      " input_3 (InputLayer)           [(None, 9, 9, 2)]    0           []                               \n",
      "                                                                                                  \n",
      " conv2d_4 (Conv2D)              (None, 7, 7, 36)     684         ['input_3[0][0]']                \n",
      "                                                                                                  \n",
      " conv2d_5 (Conv2D)              (None, 5, 5, 36)     11700       ['conv2d_4[0][0]']               \n",
      "                                                                                                  \n",
      " flatten_2 (Flatten)            (None, 900)          0           ['conv2d_5[0][0]']               \n",
      "                                                                                                  \n",
      " p (Dense)                      (None, 81)           72981       ['flatten_2[0][0]']              \n",
      "                                                                                                  \n",
      " v (Dense)                      (None, 1)            901         ['flatten_2[0][0]']              \n",
      "                                                                                                  \n",
      "==================================================================================================\n",
      "Total params: 86,266\n",
      "Trainable params: 86,266\n",
      "Non-trainable params: 0\n",
      "__________________________________________________________________________________________________\n",
      "None\n",
      "Epoch 1/3\n",
      "1/1 [==============================] - 1s 733ms/step - loss: 1.0543 - p_loss: 0.0543 - v_loss: 1.0000\n",
      "Epoch 2/3\n",
      "1/1 [==============================] - 0s 9ms/step - loss: 1.0523 - p_loss: 0.0543 - v_loss: 0.9980\n",
      "Epoch 3/3\n",
      "1/1 [==============================] - 0s 13ms/step - loss: 1.0503 - p_loss: 0.0543 - v_loss: 0.9960\n"
     ]
    },
    {
     "data": {
      "text/plain": [
       "<neutralnet.NNet at 0x7f9981970e80>"
      ]
     },
     "execution_count": 17,
     "metadata": {},
     "output_type": "execute_result"
    }
   ],
   "source": [
    "from neutralnet import NNet, apply_actionmask_to_policy\n",
    "\n",
    "nnet = NNet(81)\n",
    "examples = [TrainingExample(state, np.full(81, 1.0 / 81), 1) for _ in range(32)]\n",
    "nnet.train(examples)"
   ]
  },
  {
   "cell_type": "code",
   "execution_count": 10,
   "metadata": {},
   "outputs": [
    {
     "name": "stdout",
     "output_type": "stream",
     "text": [
      "(81,)\n",
      "0.0029999004\n"
     ]
    }
   ],
   "source": [
    "policy, value = nnet.predict(state)\n",
    "print(policy.shape)\n",
    "print(value)"
   ]
  },
  {
   "cell_type": "code",
   "execution_count": 11,
   "metadata": {},
   "outputs": [],
   "source": [
    "class MCTSNode:\n",
    "\n",
    "    def __init__ (self, p, q):\n",
    "        \"\"\"\n",
    "        Parameters\n",
    "        ----------\n",
    "        p : policy in this state\n",
    "        q : q value of this state\n",
    "        \"\"\"\n",
    "        self.p = p\n",
    "        self.q = q\n",
    "        # n[a] : number of times and action has been performed from this state\n",
    "        self.n = np.zeros(len(p))\n",
    "        # q_a : q values of states following performing an action a\n",
    "        self.q_a = np.zeros(len(p))\n",
    "\n",
    "\n",
    "class MCTS:\n",
    "\n",
    "    def __init__(self, nnet, num_mcts_sims, max_depth = 10):\n",
    "        self.nnet = nnet\n",
    "        self.nodes = {}\n",
    "        self.c_puct = 1.0\n",
    "        self.num_mcts_sims = num_mcts_sims\n",
    "        self.max_depth = max_depth\n",
    "        \n",
    "    def search(self, s):\n",
    "        for _ in range(self.num_mcts_sims):\n",
    "            self._search(s, self.max_depth)\n",
    "\n",
    "    def _search(self, s, max_depth):\n",
    "        if s.gameEnded(): return s.gameReward()\n",
    "\n",
    "        if s not in self.nodes:\n",
    "            p, v = self.nnet.predict(s)\n",
    "            self.nodes[s] = MCTSNode(p, v)\n",
    "            return v\n",
    "\n",
    "        node = self.nodes[s]\n",
    "\n",
    "        if max_depth == 0:\n",
    "            # max depth reached, returning a heuristic value of this state\n",
    "            return node.q\n",
    "      \n",
    "        # upper confidence bound\n",
    "        ucb = node.q_a + self.c_puct * node.p * np.sqrt(np.sum(node.n)) / (1 + node.n)\n",
    "        ucb[s.getActionMask() == 0] = -np.inf\n",
    "        # choose best action based on ucb\n",
    "        a = np.argmax(ucb)\n",
    "        \n",
    "        sp, player_changed = s.nextState(a)\n",
    "        v = self._search(sp, max_depth - 1)\n",
    "        if player_changed:\n",
    "            v = -v\n",
    "\n",
    "        node.q_a[a] = (node.n[a] * node.q_a[a] + v) / (node.n[a] + 1)\n",
    "        node.n[a] += 1\n",
    "        return v\n",
    "\n",
    "    # improved policy\n",
    "    def pi(self, s : State):\n",
    "        node = self.nodes[s]\n",
    "        n_sum = np.sum(node.n)\n",
    "        if n_sum == 0:\n",
    "            return node.p\n",
    "\n",
    "        return node.n / n_sum"
   ]
  },
  {
   "cell_type": "code",
   "execution_count": 12,
   "metadata": {},
   "outputs": [
    {
     "data": {
      "text/plain": [
       "(81,)"
      ]
     },
     "execution_count": 12,
     "metadata": {},
     "output_type": "execute_result"
    }
   ],
   "source": [
    "mcts = MCTS(nnet, 2)\n",
    "mcts.search(state)\n",
    "mcts.pi(state).shape"
   ]
  },
  {
   "cell_type": "code",
   "execution_count": 18,
   "metadata": {},
   "outputs": [],
   "source": [
    "class RandomPlayer:\n",
    "    \n",
    "    def predict(self, state : State):\n",
    "        p = np.random.uniform(81)\n",
    "        return apply_actionmask_to_policy(p, state.getActionMask()), 0"
   ]
  },
  {
   "cell_type": "code",
   "execution_count": 13,
   "metadata": {},
   "outputs": [],
   "source": [
    "def pit(new_nnet : NNet, nnet : NNet, games_played = 40):\n",
    "    new_nnet_tag = \"player_1\"\n",
    "    nnet_tag = \"player_2\"\n",
    "    wins = 0\n",
    "    ties = 0\n",
    "\n",
    "    for g in range(games_played):\n",
    "        env = ultimate_tictactoe_v1.env()\n",
    "        env.reset()\n",
    "        s = State(env)\n",
    "        # swap players before each round\n",
    "        new_nnet_tag, nnet_tag = nnet_tag, new_nnet_tag  \n",
    "        agents = {new_nnet_tag : new_nnet, nnet_tag : nnet}\n",
    "\n",
    "        while not s.gameEnded():\n",
    "            agent = agents[s.currentAgent()]\n",
    "            p, _ = agent.predict(s)\n",
    "            action = np.random.choice(len(p), p=p)\n",
    "            s.env.step(action)\n",
    "\n",
    "        if s.gameReward() == 0:\n",
    "            ties += 1\n",
    "       \n",
    "        if s.gameReward() == 1 and s.currentAgent() == new_nnet_tag:\n",
    "            wins += 1\n",
    "    \n",
    "        if s.gameReward() == -1 and s.currentAgent() != new_nnet_tag:\n",
    "            wins += 1\n",
    "        \n",
    "            \n",
    "    frac_win = wins / (games_played - ties)\n",
    "    return frac_win\n",
    "\n",
    "# training\n",
    "def policyIterSP(env : AECEnv, num_iters = 10, num_eps = 10,  num_mcts_sims=25, frac_win_thresh = 0.55):\n",
    "    # hard coded action space size\n",
    "    nnet = NNet(81)\n",
    "    frac_win = pit(nnet, RandomPlayer())                              # compare new net with a random player\n",
    "    print(\"frac_wins against a random player\", frac_win)\n",
    "    examples = []\n",
    "    for i in range(num_iters):\n",
    "        for e in range(num_eps):\n",
    "            examples += executeSelfPlayEpisode(env, nnet, num_mcts_sims)    # collect examples from this game\n",
    "            print(\"episode done\")\n",
    "        new_nnet = nnet.train(examples)\n",
    "        frac_win = pit(new_nnet, nnet)                                # compare new net with previous net\n",
    "        print(\"frac_win\", frac_win)\n",
    "        if frac_win > frac_win_thresh:\n",
    "            print(\"new net is better!\")\n",
    "            nnet = new_nnet                                           # replace with new net\n",
    "            frac_win = pit(nnet, RandomPlayer())                      # compare new net with a random player\n",
    "            print(\"frac_wins against a random player\", frac_win)\n",
    "        examples = random.sample(examples, len(examples) // 2)        # discard half of the examples\n",
    "    return nnet\n",
    "\n",
    "def executeSelfPlayEpisode(env : AECEnv, nnet, num_mcts_sims = 3):\n",
    "    examples = []\n",
    "    env.reset()\n",
    "    s = State(env)\n",
    "    # s.show(wait = False)\n",
    "    mcts = MCTS(nnet, num_mcts_sims)\n",
    "\n",
    "    while True:\n",
    "        mcts.search(s)\n",
    "        pi = mcts.pi(s)\n",
    "        examples.append(TrainingExample(deepcopy(s), pi, None))  # rewards can not be determined yet\n",
    "        a = np.random.choice(len(pi), p=pi)                      # sample action from improved policy\n",
    "        s, _ = s.nextState(a)\n",
    "        # s.show(wait = False)\n",
    "        if s.gameEnded():\n",
    "            examples = assignRewards(examples, s.gameReward(), s.currentAgent())\n",
    "            return examples\n",
    "\n",
    "def assignRewards(examples, reward, player_w_reward):\n",
    "    for e in examples:\n",
    "        e.reward = reward if e.state.currentAgent() == player_w_reward else -reward\n",
    "\n",
    "    return examples"
   ]
  },
  {
   "cell_type": "code",
   "execution_count": 19,
   "metadata": {},
   "outputs": [
    {
     "name": "stdout",
     "output_type": "stream",
     "text": [
      "Model: \"model_3\"\n",
      "__________________________________________________________________________________________________\n",
      " Layer (type)                   Output Shape         Param #     Connected to                     \n",
      "==================================================================================================\n",
      " input_4 (InputLayer)           [(None, 9, 9, 2)]    0           []                               \n",
      "                                                                                                  \n",
      " conv2d_6 (Conv2D)              (None, 7, 7, 36)     684         ['input_4[0][0]']                \n",
      "                                                                                                  \n",
      " conv2d_7 (Conv2D)              (None, 5, 5, 36)     11700       ['conv2d_6[0][0]']               \n",
      "                                                                                                  \n",
      " flatten_3 (Flatten)            (None, 900)          0           ['conv2d_7[0][0]']               \n",
      "                                                                                                  \n",
      " p (Dense)                      (None, 256)          230656      ['flatten_3[0][0]']              \n",
      "                                                                                                  \n",
      " v (Dense)                      (None, 1)            901         ['flatten_3[0][0]']              \n",
      "                                                                                                  \n",
      "==================================================================================================\n",
      "Total params: 243,941\n",
      "Trainable params: 243,941\n",
      "Non-trainable params: 0\n",
      "__________________________________________________________________________________________________\n",
      "None\n"
     ]
    },
    {
     "ename": "ValueError",
     "evalue": "operands could not be broadcast together with shapes (256,) (81,) ",
     "output_type": "error",
     "traceback": [
      "\u001b[0;31m---------------------------------------------------------------------------\u001b[0m",
      "\u001b[0;31mValueError\u001b[0m                                Traceback (most recent call last)",
      "\u001b[0;32m/var/folders/93/r9jshc2979z1l55rb4p565nc0000gn/T/ipykernel_59812/144236795.py\u001b[0m in \u001b[0;36m<module>\u001b[0;34m\u001b[0m\n\u001b[1;32m      1\u001b[0m \u001b[0menv\u001b[0m \u001b[0;34m=\u001b[0m \u001b[0multimate_tictactoe_v1\u001b[0m\u001b[0;34m.\u001b[0m\u001b[0menv\u001b[0m\u001b[0;34m(\u001b[0m\u001b[0;34m)\u001b[0m\u001b[0;34m\u001b[0m\u001b[0;34m\u001b[0m\u001b[0m\n\u001b[0;32m----> 2\u001b[0;31m \u001b[0mnnet\u001b[0m \u001b[0;34m=\u001b[0m \u001b[0mpolicyIterSP\u001b[0m\u001b[0;34m(\u001b[0m\u001b[0menv\u001b[0m\u001b[0;34m,\u001b[0m \u001b[0mnum_iters\u001b[0m\u001b[0;34m=\u001b[0m\u001b[0;36m1\u001b[0m\u001b[0;34m,\u001b[0m \u001b[0mnum_eps\u001b[0m\u001b[0;34m=\u001b[0m\u001b[0;36m1\u001b[0m\u001b[0;34m,\u001b[0m \u001b[0mnum_mcts_sims\u001b[0m\u001b[0;34m=\u001b[0m\u001b[0;36m3\u001b[0m\u001b[0;34m)\u001b[0m\u001b[0;34m\u001b[0m\u001b[0;34m\u001b[0m\u001b[0m\n\u001b[0m",
      "\u001b[0;32m/var/folders/93/r9jshc2979z1l55rb4p565nc0000gn/T/ipykernel_59812/2538703707.py\u001b[0m in \u001b[0;36mpolicyIterSP\u001b[0;34m(env, num_iters, num_eps, num_mcts_sims, frac_win_thresh)\u001b[0m\n\u001b[1;32m     36\u001b[0m     \u001b[0;31m# hard coded action space size\u001b[0m\u001b[0;34m\u001b[0m\u001b[0;34m\u001b[0m\u001b[0;34m\u001b[0m\u001b[0m\n\u001b[1;32m     37\u001b[0m     \u001b[0mnnet\u001b[0m \u001b[0;34m=\u001b[0m \u001b[0mNNet\u001b[0m\u001b[0;34m(\u001b[0m\u001b[0;36m256\u001b[0m\u001b[0;34m)\u001b[0m\u001b[0;34m\u001b[0m\u001b[0;34m\u001b[0m\u001b[0m\n\u001b[0;32m---> 38\u001b[0;31m     \u001b[0mfrac_win\u001b[0m \u001b[0;34m=\u001b[0m \u001b[0mpit\u001b[0m\u001b[0;34m(\u001b[0m\u001b[0mnnet\u001b[0m\u001b[0;34m,\u001b[0m \u001b[0mRandomPlayer\u001b[0m\u001b[0;34m(\u001b[0m\u001b[0;34m)\u001b[0m\u001b[0;34m)\u001b[0m                              \u001b[0;31m# compare new net with a random player\u001b[0m\u001b[0;34m\u001b[0m\u001b[0;34m\u001b[0m\u001b[0m\n\u001b[0m\u001b[1;32m     39\u001b[0m     \u001b[0mprint\u001b[0m\u001b[0;34m(\u001b[0m\u001b[0;34m\"frac_wins against a random player\"\u001b[0m\u001b[0;34m,\u001b[0m \u001b[0mfrac_win\u001b[0m\u001b[0;34m)\u001b[0m\u001b[0;34m\u001b[0m\u001b[0;34m\u001b[0m\u001b[0m\n\u001b[1;32m     40\u001b[0m     \u001b[0mexamples\u001b[0m \u001b[0;34m=\u001b[0m \u001b[0;34m[\u001b[0m\u001b[0;34m]\u001b[0m\u001b[0;34m\u001b[0m\u001b[0;34m\u001b[0m\u001b[0m\n",
      "\u001b[0;32m/var/folders/93/r9jshc2979z1l55rb4p565nc0000gn/T/ipykernel_59812/2538703707.py\u001b[0m in \u001b[0;36mpit\u001b[0;34m(new_nnet, nnet, games_played)\u001b[0m\n\u001b[1;32m     15\u001b[0m         \u001b[0;32mwhile\u001b[0m \u001b[0;32mnot\u001b[0m \u001b[0ms\u001b[0m\u001b[0;34m.\u001b[0m\u001b[0mgameEnded\u001b[0m\u001b[0;34m(\u001b[0m\u001b[0;34m)\u001b[0m\u001b[0;34m:\u001b[0m\u001b[0;34m\u001b[0m\u001b[0;34m\u001b[0m\u001b[0m\n\u001b[1;32m     16\u001b[0m             \u001b[0magent\u001b[0m \u001b[0;34m=\u001b[0m \u001b[0magents\u001b[0m\u001b[0;34m[\u001b[0m\u001b[0ms\u001b[0m\u001b[0;34m.\u001b[0m\u001b[0mcurrentAgent\u001b[0m\u001b[0;34m(\u001b[0m\u001b[0;34m)\u001b[0m\u001b[0;34m]\u001b[0m\u001b[0;34m\u001b[0m\u001b[0;34m\u001b[0m\u001b[0m\n\u001b[0;32m---> 17\u001b[0;31m             \u001b[0mp\u001b[0m\u001b[0;34m,\u001b[0m \u001b[0m_\u001b[0m \u001b[0;34m=\u001b[0m \u001b[0magent\u001b[0m\u001b[0;34m.\u001b[0m\u001b[0mpredict\u001b[0m\u001b[0;34m(\u001b[0m\u001b[0ms\u001b[0m\u001b[0;34m)\u001b[0m\u001b[0;34m\u001b[0m\u001b[0;34m\u001b[0m\u001b[0m\n\u001b[0m\u001b[1;32m     18\u001b[0m             \u001b[0maction\u001b[0m \u001b[0;34m=\u001b[0m \u001b[0mnp\u001b[0m\u001b[0;34m.\u001b[0m\u001b[0mrandom\u001b[0m\u001b[0;34m.\u001b[0m\u001b[0mchoice\u001b[0m\u001b[0;34m(\u001b[0m\u001b[0mlen\u001b[0m\u001b[0;34m(\u001b[0m\u001b[0mp\u001b[0m\u001b[0;34m)\u001b[0m\u001b[0;34m,\u001b[0m \u001b[0mp\u001b[0m\u001b[0;34m=\u001b[0m\u001b[0mp\u001b[0m\u001b[0;34m)\u001b[0m\u001b[0;34m\u001b[0m\u001b[0;34m\u001b[0m\u001b[0m\n\u001b[1;32m     19\u001b[0m             \u001b[0ms\u001b[0m\u001b[0;34m.\u001b[0m\u001b[0menv\u001b[0m\u001b[0;34m.\u001b[0m\u001b[0mstep\u001b[0m\u001b[0;34m(\u001b[0m\u001b[0maction\u001b[0m\u001b[0;34m)\u001b[0m\u001b[0;34m\u001b[0m\u001b[0;34m\u001b[0m\u001b[0m\n",
      "\u001b[0;32m~/Documents/GitHub/tictacbro/neutralnet.py\u001b[0m in \u001b[0;36mpredict\u001b[0;34m(self, state)\u001b[0m\n\u001b[1;32m     34\u001b[0m \u001b[0;34m\u001b[0m\u001b[0m\n\u001b[1;32m     35\u001b[0m         \u001b[0mp\u001b[0m \u001b[0;34m=\u001b[0m \u001b[0mp\u001b[0m\u001b[0;34m[\u001b[0m\u001b[0;36m0\u001b[0m\u001b[0;34m]\u001b[0m\u001b[0;34m\u001b[0m\u001b[0;34m\u001b[0m\u001b[0m\n\u001b[0;32m---> 36\u001b[0;31m         \u001b[0mp\u001b[0m \u001b[0;34m=\u001b[0m \u001b[0mapply_actionmask_to_policy\u001b[0m\u001b[0;34m(\u001b[0m\u001b[0mp\u001b[0m\u001b[0;34m,\u001b[0m \u001b[0mstate\u001b[0m\u001b[0;34m.\u001b[0m\u001b[0mgetActionMask\u001b[0m\u001b[0;34m(\u001b[0m\u001b[0;34m)\u001b[0m\u001b[0;34m)\u001b[0m\u001b[0;34m\u001b[0m\u001b[0;34m\u001b[0m\u001b[0m\n\u001b[0m\u001b[1;32m     37\u001b[0m         \u001b[0;32mreturn\u001b[0m \u001b[0mp\u001b[0m\u001b[0;34m,\u001b[0m \u001b[0mv\u001b[0m\u001b[0;34m[\u001b[0m\u001b[0;36m0\u001b[0m\u001b[0;34m]\u001b[0m\u001b[0;34m[\u001b[0m\u001b[0;36m0\u001b[0m\u001b[0;34m]\u001b[0m\u001b[0;34m\u001b[0m\u001b[0;34m\u001b[0m\u001b[0m\n\u001b[1;32m     38\u001b[0m \u001b[0;34m\u001b[0m\u001b[0m\n",
      "\u001b[0;32m~/Documents/GitHub/tictacbro/neutralnet.py\u001b[0m in \u001b[0;36mapply_actionmask_to_policy\u001b[0;34m(p, action_mask)\u001b[0m\n\u001b[1;32m      6\u001b[0m \u001b[0;34m\u001b[0m\u001b[0m\n\u001b[1;32m      7\u001b[0m \u001b[0;32mdef\u001b[0m \u001b[0mapply_actionmask_to_policy\u001b[0m\u001b[0;34m(\u001b[0m\u001b[0mp\u001b[0m\u001b[0;34m,\u001b[0m \u001b[0maction_mask\u001b[0m\u001b[0;34m)\u001b[0m\u001b[0;34m:\u001b[0m\u001b[0;34m\u001b[0m\u001b[0;34m\u001b[0m\u001b[0m\n\u001b[0;32m----> 8\u001b[0;31m     \u001b[0mp_masked\u001b[0m \u001b[0;34m=\u001b[0m \u001b[0mp\u001b[0m \u001b[0;34m*\u001b[0m \u001b[0maction_mask\u001b[0m\u001b[0;34m\u001b[0m\u001b[0;34m\u001b[0m\u001b[0m\n\u001b[0m\u001b[1;32m      9\u001b[0m     \u001b[0;32mif\u001b[0m \u001b[0mnp\u001b[0m\u001b[0;34m.\u001b[0m\u001b[0msum\u001b[0m\u001b[0;34m(\u001b[0m\u001b[0mp_masked\u001b[0m\u001b[0;34m)\u001b[0m \u001b[0;34m==\u001b[0m \u001b[0;36m0\u001b[0m\u001b[0;34m:\u001b[0m\u001b[0;34m\u001b[0m\u001b[0;34m\u001b[0m\u001b[0m\n\u001b[1;32m     10\u001b[0m         \u001b[0mp_masked\u001b[0m \u001b[0;34m=\u001b[0m \u001b[0mm\u001b[0m\u001b[0;34m\u001b[0m\u001b[0;34m\u001b[0m\u001b[0m\n",
      "\u001b[0;31mValueError\u001b[0m: operands could not be broadcast together with shapes (256,) (81,) "
     ]
    }
   ],
   "source": [
    "env = ultimate_tictactoe_v1.env()\n",
    "nnet = policyIterSP(env, num_iters=1, num_eps=1, num_mcts_sims=3)"
   ]
  }
 ],
 "metadata": {
  "interpreter": {
   "hash": "0c7c38661b9d677a52a5c0789c23abb74854ab3b06d3a2bffcd4c9f8936097f8"
  },
  "kernelspec": {
   "display_name": "Python 3.8.6 64-bit ('venv': venv)",
   "language": "python",
   "name": "python3"
  },
  "language_info": {
   "codemirror_mode": {
    "name": "ipython",
    "version": 3
   },
   "file_extension": ".py",
   "mimetype": "text/x-python",
   "name": "python",
   "nbconvert_exporter": "python",
   "pygments_lexer": "ipython3",
   "version": "3.8.6"
  },
  "orig_nbformat": 4
 },
 "nbformat": 4,
 "nbformat_minor": 2
}
